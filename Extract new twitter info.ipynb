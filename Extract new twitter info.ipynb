{
 "cells": [
  {
   "cell_type": "code",
   "execution_count": 1,
   "metadata": {},
   "outputs": [],
   "source": [
    "import pandas as pd\n",
    "import numpy as np\n",
    "import tqdm.notebook as tqdm\n",
    "import snscrape.modules.twitter as sntwitter\n",
    "import matplotlib.pyplot as plt\n",
    "import seaborn as sns\n",
    "import os\n",
    "\n",
    "from selenium import webdriver\n",
    "from selenium.webdriver.chrome.options import Options\n",
    "\n",
    "\n",
    "from selenium.webdriver.support.ui import WebDriverWait\n",
    "from selenium.webdriver.common.by import By\n",
    "from selenium.webdriver.support import expected_conditions as EC\n",
    "from selenium.webdriver.common.action_chains import ActionChains"
   ]
  },
  {
   "cell_type": "code",
   "execution_count": 2,
   "metadata": {},
   "outputs": [],
   "source": [
    "os.chdir('/Users/alisdghnia/Desktop/School - Graduate/Statistical Programming for Business Analytics - Spring 2023/')"
   ]
  },
  {
   "cell_type": "code",
   "execution_count": 3,
   "metadata": {},
   "outputs": [
    {
     "data": {
      "text/html": [
       "<div>\n",
       "<style scoped>\n",
       "    .dataframe tbody tr th:only-of-type {\n",
       "        vertical-align: middle;\n",
       "    }\n",
       "\n",
       "    .dataframe tbody tr th {\n",
       "        vertical-align: top;\n",
       "    }\n",
       "\n",
       "    .dataframe thead th {\n",
       "        text-align: right;\n",
       "    }\n",
       "</style>\n",
       "<table border=\"1\" class=\"dataframe\">\n",
       "  <thead>\n",
       "    <tr style=\"text-align: right;\">\n",
       "      <th></th>\n",
       "      <th>Date</th>\n",
       "      <th>Tweet</th>\n",
       "      <th>Url</th>\n",
       "      <th>User</th>\n",
       "      <th>UserCreated</th>\n",
       "      <th>UserVerified</th>\n",
       "      <th>UserFollowers</th>\n",
       "      <th>UserFriends</th>\n",
       "      <th>Retweets</th>\n",
       "      <th>Likes</th>\n",
       "      <th>Location</th>\n",
       "      <th>UserDescription</th>\n",
       "    </tr>\n",
       "  </thead>\n",
       "  <tbody>\n",
       "    <tr>\n",
       "      <th>0</th>\n",
       "      <td>2023-01-29 15:08:03+00:00</td>\n",
       "      <td>My hubby keeps saying I should try #ChatGPT.\\n...</td>\n",
       "      <td>https://twitter.com/heyandriadaily/status/1619...</td>\n",
       "      <td>heyandriadaily</td>\n",
       "      <td>2021-11-18 00:15:55+00:00</td>\n",
       "      <td>False</td>\n",
       "      <td>1</td>\n",
       "      <td>0</td>\n",
       "      <td>0</td>\n",
       "      <td>0</td>\n",
       "      <td>USA</td>\n",
       "      <td>Intentional living - occasional luxuries - hea...</td>\n",
       "    </tr>\n",
       "    <tr>\n",
       "      <th>1</th>\n",
       "      <td>2023-01-29 15:07:59+00:00</td>\n",
       "      <td>I've been waiting for  ChatGPT to open back up...</td>\n",
       "      <td>https://twitter.com/_doc_oc/status/16197139759...</td>\n",
       "      <td>_doc_oc</td>\n",
       "      <td>2022-02-08 01:15:45+00:00</td>\n",
       "      <td>False</td>\n",
       "      <td>24</td>\n",
       "      <td>144</td>\n",
       "      <td>0</td>\n",
       "      <td>0</td>\n",
       "      <td>Texas Medical Center</td>\n",
       "      <td>☢️ B.S. Nuclear Engineering  \\n🩺⚙️ Texas A&amp;M E...</td>\n",
       "    </tr>\n",
       "    <tr>\n",
       "      <th>2</th>\n",
       "      <td>2023-01-29 15:07:38+00:00</td>\n",
       "      <td>#ChatGPT thank u for my pitch deck bullets.</td>\n",
       "      <td>https://twitter.com/nikoonya/status/1619713889...</td>\n",
       "      <td>nikoonya</td>\n",
       "      <td>2011-01-10 16:24:18+00:00</td>\n",
       "      <td>False</td>\n",
       "      <td>311</td>\n",
       "      <td>167</td>\n",
       "      <td>0</td>\n",
       "      <td>0</td>\n",
       "      <td>Kansas City, MO</td>\n",
       "      <td>Cofounder @uvavault | Multi-collector of @veef...</td>\n",
       "    </tr>\n",
       "    <tr>\n",
       "      <th>3</th>\n",
       "      <td>2023-01-29 15:06:53+00:00</td>\n",
       "      <td>Tune in to our next Episode: Bans and regulati...</td>\n",
       "      <td>https://twitter.com/CSOonline/status/161971369...</td>\n",
       "      <td>CSOonline</td>\n",
       "      <td>2009-03-16 12:25:05+00:00</td>\n",
       "      <td>True</td>\n",
       "      <td>62409</td>\n",
       "      <td>816</td>\n",
       "      <td>0</td>\n",
       "      <td>0</td>\n",
       "      <td>Boston area</td>\n",
       "      <td>From @FoundryIDG -- #CSO provides news, analys...</td>\n",
       "    </tr>\n",
       "    <tr>\n",
       "      <th>4</th>\n",
       "      <td>2023-01-29 15:06:18+00:00</td>\n",
       "      <td>AI trainers = underpaid human annotators?!\\n#C...</td>\n",
       "      <td>https://twitter.com/OmaymaS_/status/1619713552...</td>\n",
       "      <td>OmaymaS_</td>\n",
       "      <td>2009-12-13 15:58:13+00:00</td>\n",
       "      <td>False</td>\n",
       "      <td>1199</td>\n",
       "      <td>786</td>\n",
       "      <td>0</td>\n",
       "      <td>0</td>\n",
       "      <td>NaN</td>\n",
       "      <td>#datascience #machinelearning #rstats  #python...</td>\n",
       "    </tr>\n",
       "    <tr>\n",
       "      <th>5</th>\n",
       "      <td>2023-01-29 15:06:16+00:00</td>\n",
       "      <td>#ChatGPT: ‘Bigger than anything’ #HR has ever ...</td>\n",
       "      <td>https://twitter.com/KevinPetschow/status/16197...</td>\n",
       "      <td>KevinPetschow</td>\n",
       "      <td>2008-02-02 15:28:48+00:00</td>\n",
       "      <td>False</td>\n",
       "      <td>3798</td>\n",
       "      <td>4928</td>\n",
       "      <td>0</td>\n",
       "      <td>0</td>\n",
       "      <td>Tampa, FL</td>\n",
       "      <td>Strategic #PR #marketing &amp; #digitalmedia #lead...</td>\n",
       "    </tr>\n",
       "  </tbody>\n",
       "</table>\n",
       "</div>"
      ],
      "text/plain": [
       "                        Date  \\\n",
       "0  2023-01-29 15:08:03+00:00   \n",
       "1  2023-01-29 15:07:59+00:00   \n",
       "2  2023-01-29 15:07:38+00:00   \n",
       "3  2023-01-29 15:06:53+00:00   \n",
       "4  2023-01-29 15:06:18+00:00   \n",
       "5  2023-01-29 15:06:16+00:00   \n",
       "\n",
       "                                               Tweet  \\\n",
       "0  My hubby keeps saying I should try #ChatGPT.\\n...   \n",
       "1  I've been waiting for  ChatGPT to open back up...   \n",
       "2        #ChatGPT thank u for my pitch deck bullets.   \n",
       "3  Tune in to our next Episode: Bans and regulati...   \n",
       "4  AI trainers = underpaid human annotators?!\\n#C...   \n",
       "5  #ChatGPT: ‘Bigger than anything’ #HR has ever ...   \n",
       "\n",
       "                                                 Url            User  \\\n",
       "0  https://twitter.com/heyandriadaily/status/1619...  heyandriadaily   \n",
       "1  https://twitter.com/_doc_oc/status/16197139759...         _doc_oc   \n",
       "2  https://twitter.com/nikoonya/status/1619713889...        nikoonya   \n",
       "3  https://twitter.com/CSOonline/status/161971369...       CSOonline   \n",
       "4  https://twitter.com/OmaymaS_/status/1619713552...        OmaymaS_   \n",
       "5  https://twitter.com/KevinPetschow/status/16197...   KevinPetschow   \n",
       "\n",
       "                 UserCreated  UserVerified  UserFollowers  UserFriends  \\\n",
       "0  2021-11-18 00:15:55+00:00         False              1            0   \n",
       "1  2022-02-08 01:15:45+00:00         False             24          144   \n",
       "2  2011-01-10 16:24:18+00:00         False            311          167   \n",
       "3  2009-03-16 12:25:05+00:00          True          62409          816   \n",
       "4  2009-12-13 15:58:13+00:00         False           1199          786   \n",
       "5  2008-02-02 15:28:48+00:00         False           3798         4928   \n",
       "\n",
       "   Retweets  Likes              Location  \\\n",
       "0         0      0                   USA   \n",
       "1         0      0  Texas Medical Center   \n",
       "2         0      0       Kansas City, MO   \n",
       "3         0      0           Boston area   \n",
       "4         0      0                   NaN   \n",
       "5         0      0             Tampa, FL   \n",
       "\n",
       "                                     UserDescription  \n",
       "0  Intentional living - occasional luxuries - hea...  \n",
       "1  ☢️ B.S. Nuclear Engineering  \\n🩺⚙️ Texas A&M E...  \n",
       "2  Cofounder @uvavault | Multi-collector of @veef...  \n",
       "3  From @FoundryIDG -- #CSO provides news, analys...  \n",
       "4  #datascience #machinelearning #rstats  #python...  \n",
       "5  Strategic #PR #marketing & #digitalmedia #lead...  "
      ]
     },
     "execution_count": 3,
     "metadata": {},
     "output_type": "execute_result"
    }
   ],
   "source": [
    "df = pd.read_csv('chatGPT.csv')\n",
    "df.head(6)"
   ]
  },
  {
   "cell_type": "code",
   "execution_count": 4,
   "metadata": {},
   "outputs": [
    {
     "name": "stderr",
     "output_type": "stream",
     "text": [
      "/var/folders/_9/qq7pw_fx125c812gfv1wl_180000gn/T/ipykernel_10487/209259826.py:6: SettingWithCopyWarning: \n",
      "A value is trying to be set on a copy of a slice from a DataFrame\n",
      "\n",
      "See the caveats in the documentation: https://pandas.pydata.org/pandas-docs/stable/user_guide/indexing.html#returning-a-view-versus-a-copy\n",
      "  df['tweetID'][i] = df['Url'][i].split('/')[-1]\n"
     ]
    }
   ],
   "source": [
    "# create a new column for the tweetID\n",
    "df['tweetID'] = np.nan\n",
    "\n",
    "# tweetID is the numbers after the last slash in the url\n",
    "for i in range(len(df)):\n",
    "    df['tweetID'][i] = df['Url'][i].split('/')[-1]"
   ]
  },
  {
   "cell_type": "code",
   "execution_count": 5,
   "metadata": {},
   "outputs": [
    {
     "data": {
      "application/vnd.jupyter.widget-view+json": {
       "model_id": "1c549e190d44483495071311acae14ea",
       "version_major": 2,
       "version_minor": 0
      },
      "text/plain": [
       "  0%|          | 0/179252 [00:00<?, ?it/s]"
      ]
     },
     "metadata": {},
     "output_type": "display_data"
    },
    {
     "name": "stderr",
     "output_type": "stream",
     "text": [
      "/var/folders/_9/qq7pw_fx125c812gfv1wl_180000gn/T/ipykernel_10487/1642198707.py:6: DeprecatedFeatureWarning: description is deprecated, use renderedDescription instead\n",
      "  j.retweetCount, j.likeCount, j.user.location, j.user.description, j.place.country, j.lang, j.replyCount, ]\n",
      "Unavailable user in card on tweet 1619643336276709376\n",
      "User 1350034417931075585 not found in user refs in card on tweet 1619643336276709376\n",
      "Unavailable user in card on tweet 1619428852392153090\n",
      "User 1616528732407169027 not found in user refs in card on tweet 1619428852392153090\n",
      "Unavailable user in card on tweet 1619399147131666433\n",
      "User 1530435498 not found in user refs in card on tweet 1619399147131666433\n",
      "Unavailable user in card on tweet 1619316359711670273\n",
      "User 1616528732407169027 not found in user refs in card on tweet 1619316359711670273\n",
      "Unavailable user in card on tweet 1619061929296949248\n",
      "User 3067393243 not found in user refs in card on tweet 1619061929296949248\n",
      "Unavailable user in card on tweet 1618993380545150979\n",
      "User 522038426 not found in user refs in card on tweet 1618993380545150979\n",
      "Unavailable user in card on tweet 1618898458055954433\n",
      "Unavailable user in card on tweet 1618898458055954433\n",
      "User 160497158 not found in user refs in card on tweet 1618898458055954433\n",
      "User 160497158 not found in user refs in card on tweet 1618898458055954433\n",
      "Unavailable user in card on tweet 1618856161075412993\n",
      "User 4786635922 not found in user refs in card on tweet 1618856161075412993\n",
      "Unavailable user in card on tweet 1618506767331364872\n",
      "User 4786635922 not found in user refs in card on tweet 1618506767331364872\n",
      "Unavailable user in card on tweet 1618407548406861825\n",
      "User 1616528732407169027 not found in user refs in card on tweet 1618407548406861825\n",
      "Unavailable user in card on tweet 1618271177344180225\n",
      "User 1616528732407169027 not found in user refs in card on tweet 1618271177344180225\n",
      "Unavailable user in card on tweet 1618251158081896450\n",
      "User 1381232690343649283 not found in user refs in card on tweet 1618251158081896450\n",
      "Unavailable user in card on tweet 1618196621979975681\n",
      "Unavailable user in card on tweet 1618196621979975681\n",
      "User 160497158 not found in user refs in card on tweet 1618196621979975681\n",
      "User 160497158 not found in user refs in card on tweet 1618196621979975681\n",
      "Unavailable user in card on tweet 1618018315351519232\n",
      "Unavailable user in card on tweet 1618018315351519232\n",
      "User 873939764876943363 not found in user refs in card on tweet 1618018315351519232\n",
      "User 873939764876943363 not found in user refs in card on tweet 1618018315351519232\n",
      "Unavailable user in card on tweet 1618006827832344579\n",
      "User 1530435498 not found in user refs in card on tweet 1618006827832344579\n",
      "Unavailable user in card on tweet 1617906325111070729\n",
      "Unavailable user in card on tweet 1617906325111070729\n",
      "User 2277520838 not found in user refs in card on tweet 1617906325111070729\n",
      "User 2277520838 not found in user refs in card on tweet 1617906325111070729\n",
      "Unavailable user in card on tweet 1617803204363784194\n",
      "User 1381232690343649283 not found in user refs in card on tweet 1617803204363784194\n",
      "Unavailable user in card on tweet 1617767127636914177\n",
      "User 4786635922 not found in user refs in card on tweet 1617767127636914177\n",
      "Unavailable user in card on tweet 1617581916357816321\n",
      "Unavailable user in card on tweet 1617581916357816321\n",
      "User 160497158 not found in user refs in card on tweet 1617581916357816321\n",
      "User 160497158 not found in user refs in card on tweet 1617581916357816321\n",
      "Unavailable user in card on tweet 1617580100110942209\n",
      "Unavailable user in card on tweet 1617580100110942209\n",
      "User 160497158 not found in user refs in card on tweet 1617580100110942209\n",
      "User 160497158 not found in user refs in card on tweet 1617580100110942209\n",
      "Unavailable user in card on tweet 1617567528972341249\n",
      "User 1530435498 not found in user refs in card on tweet 1617567528972341249\n",
      "Unavailable user in card on tweet 1617553409187647492\n",
      "User 1187124129683648512 not found in user refs in card on tweet 1617553409187647492\n",
      "Unavailable user in card on tweet 1617542188778541059\n",
      "Unavailable user in card on tweet 1617542188778541059\n",
      "User 41566187 not found in user refs in card on tweet 1617542188778541059\n",
      "User 41566187 not found in user refs in card on tweet 1617542188778541059\n",
      "Unavailable user in card on tweet 1617452328361025537\n",
      "User 3067393243 not found in user refs in card on tweet 1617452328361025537\n",
      "Unavailable user in card on tweet 1617402449228353537\n",
      "Unavailable user in card on tweet 1617402449228353537\n",
      "User 1475836520460218368 not found in user refs in card on tweet 1617402449228353537\n",
      "User 1475836520460218368 not found in user refs in card on tweet 1617402449228353537\n",
      "Unavailable user in card on tweet 1616915357247180800\n",
      "User 522038426 not found in user refs in card on tweet 1616915357247180800\n",
      "Unavailable user in card on tweet 1616736022137831424\n",
      "Unavailable user in card on tweet 1616736022137831424\n",
      "User 160497158 not found in user refs in card on tweet 1616736022137831424\n",
      "User 160497158 not found in user refs in card on tweet 1616736022137831424\n",
      "Unavailable user in card on tweet 1616527202962513920\n",
      "User 1382709957947101185 not found in user refs in card on tweet 1616527202962513920\n",
      "Unavailable user in card on tweet 1616460551600902151\n",
      "Unavailable user in card on tweet 1616460551600902151\n",
      "User 873939764876943363 not found in user refs in card on tweet 1616460551600902151\n",
      "User 873939764876943363 not found in user refs in card on tweet 1616460551600902151\n",
      "Unavailable user in card on tweet 1616336218199052288\n",
      "User 4786635922 not found in user refs in card on tweet 1616336218199052288\n",
      "Unavailable user in card on tweet 1616129630867722242\n",
      "User 3067393243 not found in user refs in card on tweet 1616129630867722242\n",
      "Unavailable user in card on tweet 1616073205600378880\n",
      "User 157062631 not found in user refs in card on tweet 1616073205600378880\n",
      "Unavailable user in card on tweet 1616064802841034752\n",
      "User 4786635922 not found in user refs in card on tweet 1616064802841034752\n",
      "Unavailable user in card on tweet 1615990977822613505\n",
      "User 4786635922 not found in user refs in card on tweet 1615990977822613505\n",
      "Unavailable user in card on tweet 1615682015948607490\n",
      "Unavailable user in card on tweet 1615682015948607490\n",
      "User 160497158 not found in user refs in card on tweet 1615682015948607490\n",
      "User 160497158 not found in user refs in card on tweet 1615682015948607490\n",
      "Unavailable user in card on tweet 1615645220225581057\n",
      "Unavailable user in card on tweet 1615645220225581057\n",
      "User 4536472817 not found in user refs in card on tweet 1615645220225581057\n",
      "User 4536472817 not found in user refs in card on tweet 1615645220225581057\n",
      "Unavailable user in card on tweet 1615621639156154373\n",
      "User 1448574626469015554 not found in user refs in card on tweet 1615621639156154373\n",
      "Unavailable user in card on tweet 1615440037470179329\n",
      "User 3067393243 not found in user refs in card on tweet 1615440037470179329\n",
      "Unavailable user in card on tweet 1615305279733727232\n",
      "User 374403914 not found in user refs in card on tweet 1615305279733727232\n",
      "Unavailable user in card on tweet 1615269019631714304\n",
      "User 1381232690343649283 not found in user refs in card on tweet 1615269019631714304\n",
      "Unavailable user in card on tweet 1615260103250411522\n",
      "Unavailable user in card on tweet 1615260103250411522\n",
      "User 160497158 not found in user refs in card on tweet 1615260103250411522\n",
      "User 160497158 not found in user refs in card on tweet 1615260103250411522\n",
      "Unavailable user in card on tweet 1615067637251276810\n",
      "User 633124104 not found in user refs in card on tweet 1615067637251276810\n",
      "Unavailable user in card on tweet 1615019809074483201\n",
      "Unavailable user in card on tweet 1615019809074483201\n",
      "User 2277520838 not found in user refs in card on tweet 1615019809074483201\n",
      "User 2277520838 not found in user refs in card on tweet 1615019809074483201\n",
      "Unavailable user in card on tweet 1614989614623727617\n",
      "User 1276408096328474625 not found in user refs in card on tweet 1614989614623727617\n",
      "Unavailable user in card on tweet 1614470485005434884\n",
      "Unavailable user in card on tweet 1614470485005434884\n",
      "User 993910175856713728 not found in user refs in card on tweet 1614470485005434884\n",
      "User 993910175856713728 not found in user refs in card on tweet 1614470485005434884\n",
      "Unavailable user in card on tweet 1614395694231740416\n",
      "Unavailable user in card on tweet 1614395694231740416\n",
      "User 873939764876943363 not found in user refs in card on tweet 1614395694231740416\n",
      "User 873939764876943363 not found in user refs in card on tweet 1614395694231740416\n",
      "Unavailable user in card on tweet 1614326913170038787\n",
      "User 3067393243 not found in user refs in card on tweet 1614326913170038787\n",
      "Unavailable user in card on tweet 1614270299612270594\n",
      "Unavailable user in card on tweet 1614270299612270594\n",
      "User 160497158 not found in user refs in card on tweet 1614270299612270594\n",
      "User 160497158 not found in user refs in card on tweet 1614270299612270594\n",
      "Unavailable user in card on tweet 1614267553744039937\n",
      "Unavailable user in card on tweet 1614267553744039937\n",
      "User 160497158 not found in user refs in card on tweet 1614267553744039937\n",
      "User 160497158 not found in user refs in card on tweet 1614267553744039937\n",
      "Unavailable user in card on tweet 1614263934122590214\n",
      "Unavailable user in card on tweet 1614263934122590214\n",
      "User 160497158 not found in user refs in card on tweet 1614263934122590214\n",
      "User 160497158 not found in user refs in card on tweet 1614263934122590214\n",
      "Unavailable user in card on tweet 1614174721330843649\n",
      "Unavailable user in card on tweet 1614174721330843649\n",
      "User 2650582488 not found in user refs in card on tweet 1614174721330843649\n",
      "User 2650582488 not found in user refs in card on tweet 1614174721330843649\n",
      "Unavailable user in card on tweet 1614165944955199490\n",
      "Unavailable user in card on tweet 1614165944955199490\n",
      "User 2650582488 not found in user refs in card on tweet 1614165944955199490\n",
      "User 2650582488 not found in user refs in card on tweet 1614165944955199490\n",
      "Unavailable user in card on tweet 1613887184855265284\n",
      "Unavailable user in card on tweet 1613887184855265284\n",
      "User 1006819205537320960 not found in user refs in card on tweet 1613887184855265284\n",
      "User 1006819205537320960 not found in user refs in card on tweet 1613887184855265284\n",
      "Unavailable user in card on tweet 1613886803584647168\n",
      "Unavailable user in card on tweet 1613886803584647168\n",
      "User 1006819205537320960 not found in user refs in card on tweet 1613886803584647168\n",
      "User 1006819205537320960 not found in user refs in card on tweet 1613886803584647168\n",
      "Unavailable user in card on tweet 1613852113154756608\n",
      "Unavailable user in card on tweet 1613852113154756608\n",
      "User 873939764876943363 not found in user refs in card on tweet 1613852113154756608\n",
      "User 873939764876943363 not found in user refs in card on tweet 1613852113154756608\n",
      "Unavailable user in card on tweet 1613777875295162368\n",
      "Unavailable user in card on tweet 1613777875295162368\n",
      "User 873939764876943363 not found in user refs in card on tweet 1613777875295162368\n",
      "User 873939764876943363 not found in user refs in card on tweet 1613777875295162368\n",
      "Unavailable user in card on tweet 1613634694503104512\n",
      "User 1419616385853018113 not found in user refs in card on tweet 1613634694503104512\n",
      "Unavailable user in card on tweet 1613597176097030144\n",
      "User 3067393243 not found in user refs in card on tweet 1613597176097030144\n",
      "Unavailable user in card on tweet 1613479667062775808\n",
      "User 1381232690343649283 not found in user refs in card on tweet 1613479667062775808\n",
      "Unavailable user in card on tweet 1613472166758043649\n",
      "User 1381232690343649283 not found in user refs in card on tweet 1613472166758043649\n",
      "Unavailable user in card on tweet 1613243102529204224\n",
      "Unavailable user in card on tweet 1613243102529204224\n",
      "User 873939764876943363 not found in user refs in card on tweet 1613243102529204224\n",
      "User 873939764876943363 not found in user refs in card on tweet 1613243102529204224\n",
      "Unavailable user in card on tweet 1613229026922881051\n",
      "User 7257012 not found in user refs in card on tweet 1613229026922881051\n",
      "Unavailable user in card on tweet 1613204015289868290\n",
      "User 1522600209074765825 not found in user refs in card on tweet 1613204015289868290\n",
      "Unavailable user in card on tweet 1613153815380779009\n",
      "User 1381232690343649283 not found in user refs in card on tweet 1613153815380779009\n",
      "Unavailable user in card on tweet 1613112178810273794\n",
      "User 2180552419 not found in user refs in card on tweet 1613112178810273794\n",
      "Unavailable user in card on tweet 1612905884119605258\n",
      "User 1276408096328474625 not found in user refs in card on tweet 1612905884119605258\n",
      "Unavailable user in card on tweet 1612809793323802625\n",
      "Unavailable user in card on tweet 1612809793323802625\n",
      "User 1115289158094852097 not found in user refs in card on tweet 1612809793323802625\n",
      "User 1115289158094852097 not found in user refs in card on tweet 1612809793323802625\n",
      "Unavailable user in card on tweet 1612588794720428032\n",
      "User 1276408096328474625 not found in user refs in card on tweet 1612588794720428032\n",
      "Unavailable user in card on tweet 1612472836957917184\n",
      "User 1616528732407169027 not found in user refs in card on tweet 1612472836957917184\n",
      "Unavailable user in card on tweet 1612299550794084354\n",
      "Unavailable user in card on tweet 1612299550794084354\n",
      "User 3727654401 not found in user refs in card on tweet 1612299550794084354\n",
      "User 3727654401 not found in user refs in card on tweet 1612299550794084354\n",
      "Unavailable user in card on tweet 1612252328157138945\n",
      "User 14204245 not found in user refs in card on tweet 1612252328157138945\n",
      "Unavailable user in card on tweet 1611900502534664194\n",
      "Unavailable user in card on tweet 1611900502534664194\n",
      "User 873939764876943363 not found in user refs in card on tweet 1611900502534664194\n",
      "User 873939764876943363 not found in user refs in card on tweet 1611900502534664194\n",
      "Unavailable user in card on tweet 1611000406020182017\n",
      "User 3067393243 not found in user refs in card on tweet 1611000406020182017\n",
      "Unavailable user in card on tweet 1610582102961000448\n",
      "User 3067393243 not found in user refs in card on tweet 1610582102961000448\n",
      "Unavailable user in card on tweet 1610393322299994112\n",
      "Unavailable user in card on tweet 1610393322299994112\n",
      "User 873939764876943363 not found in user refs in card on tweet 1610393322299994112\n",
      "User 873939764876943363 not found in user refs in card on tweet 1610393322299994112\n",
      "Unavailable user in card on tweet 1609969825497124865\n",
      "Unavailable user in card on tweet 1609969825497124865\n",
      "User 871783068243308544 not found in user refs in card on tweet 1609969825497124865\n",
      "User 871783068243308544 not found in user refs in card on tweet 1609969825497124865\n",
      "Unavailable user in card on tweet 1607719262923419648\n",
      "User 1381232690343649283 not found in user refs in card on tweet 1607719262923419648\n",
      "Unavailable user in card on tweet 1607286703349460993\n",
      "User 102523389 not found in user refs in card on tweet 1607286703349460993\n",
      "Unavailable user in card on tweet 1606819249947037697\n",
      "Unavailable user in card on tweet 1606819249947037697\n",
      "User 871783068243308544 not found in user refs in card on tweet 1606819249947037697\n",
      "User 871783068243308544 not found in user refs in card on tweet 1606819249947037697\n",
      "Unavailable user in card on tweet 1606708793806852098\n",
      "Unavailable user in card on tweet 1606708793806852098\n",
      "User 873939764876943363 not found in user refs in card on tweet 1606708793806852098\n",
      "User 873939764876943363 not found in user refs in card on tweet 1606708793806852098\n",
      "Empty user ref object in card on tweet 1606401421896818696\n",
      "User 2010105 not found in user refs in card on tweet 1606401421896818696\n",
      "Empty user ref object in card on tweet 1606339821022183424\n",
      "User 2010105 not found in user refs in card on tweet 1606339821022183424\n",
      "Unavailable user in card on tweet 1606190016656310272\n",
      "Unavailable user in card on tweet 1606190016656310272\n",
      "User 1257741728465006594 not found in user refs in card on tweet 1606190016656310272\n",
      "User 1257741728465006594 not found in user refs in card on tweet 1606190016656310272\n",
      "Unavailable user in card on tweet 1606187980216971264\n",
      "Unavailable user in card on tweet 1606187980216971264\n",
      "User 1257741728465006594 not found in user refs in card on tweet 1606187980216971264\n",
      "User 1257741728465006594 not found in user refs in card on tweet 1606187980216971264\n",
      "Unavailable user in card on tweet 1605985277087862784\n",
      "Unavailable user in card on tweet 1605985277087862784\n",
      "User 873939764876943363 not found in user refs in card on tweet 1605985277087862784\n",
      "User 873939764876943363 not found in user refs in card on tweet 1605985277087862784\n",
      "Unavailable user in card on tweet 1605916071495897088\n",
      "Unavailable user in card on tweet 1605916071495897088\n",
      "User 873939764876943363 not found in user refs in card on tweet 1605916071495897088\n",
      "User 873939764876943363 not found in user refs in card on tweet 1605916071495897088\n",
      "Unavailable user in card on tweet 1605776625567617025\n",
      "Unavailable user in card on tweet 1605776625567617025\n",
      "User 871783068243308544 not found in user refs in card on tweet 1605776625567617025\n",
      "User 871783068243308544 not found in user refs in card on tweet 1605776625567617025\n",
      "Unavailable user in card on tweet 1605646022751178752\n",
      "Unavailable user in card on tweet 1605646022751178752\n",
      "User 871783068243308544 not found in user refs in card on tweet 1605646022751178752\n",
      "User 871783068243308544 not found in user refs in card on tweet 1605646022751178752\n",
      "Unavailable user in card on tweet 1605349787187847168\n",
      "Unavailable user in card on tweet 1605349787187847168\n",
      "User 756510393900666880 not found in user refs in card on tweet 1605349787187847168\n",
      "User 756510393900666880 not found in user refs in card on tweet 1605349787187847168\n",
      "Unavailable user in card on tweet 1605312559275466756\n",
      "Unavailable user in card on tweet 1605312559275466756\n",
      "User 596298336 not found in user refs in card on tweet 1605312559275466756\n",
      "User 596298336 not found in user refs in card on tweet 1605312559275466756\n",
      "Unavailable user in card on tweet 1605110764586799106\n",
      "Unavailable user in card on tweet 1605110764586799106\n",
      "User 873939764876943363 not found in user refs in card on tweet 1605110764586799106\n",
      "User 873939764876943363 not found in user refs in card on tweet 1605110764586799106\n",
      "Unavailable user in card on tweet 1605070122091450368\n",
      "User 1528477858036948992 not found in user refs in card on tweet 1605070122091450368\n",
      "Unavailable user in card on tweet 1604815419319123978\n",
      "User 633124104 not found in user refs in card on tweet 1604815419319123978\n",
      "Unavailable user in card on tweet 1604592422385725440\n",
      "User 3067393243 not found in user refs in card on tweet 1604592422385725440\n",
      "Unavailable user in card on tweet 1604502485535686660\n",
      "Unavailable user in card on tweet 1604502485535686660\n",
      "User 757758816 not found in user refs in card on tweet 1604502485535686660\n",
      "User 757758816 not found in user refs in card on tweet 1604502485535686660\n",
      "Unavailable user in card on tweet 1604017719615311872\n",
      "User 772071937443033089 not found in user refs in card on tweet 1604017719615311872\n",
      "Unavailable user in card on tweet 1604017719615311872\n",
      "User 772071937443033089 not found in user refs in card on tweet 1604017719615311872\n",
      "Unavailable user in card on tweet 1603771178686025729\n",
      "Unavailable user in card on tweet 1603771178686025729\n",
      "User 21410343 not found in user refs in card on tweet 1603771178686025729\n",
      "User 21410343 not found in user refs in card on tweet 1603771178686025729\n",
      "Unavailable user in card on tweet 1603024513784221697\n",
      "Unavailable user in card on tweet 1603024513784221697\n",
      "User 873939764876943363 not found in user refs in card on tweet 1603024513784221697\n",
      "User 873939764876943363 not found in user refs in card on tweet 1603024513784221697\n"
     ]
    },
    {
     "ename": "KeyboardInterrupt",
     "evalue": "",
     "output_type": "error",
     "traceback": [
      "\u001b[0;31m---------------------------------------------------------------------------\u001b[0m",
      "\u001b[0;31mKeyboardInterrupt\u001b[0m                         Traceback (most recent call last)",
      "\u001b[1;32m/Users/alisdghnia/Desktop/School - Graduate/Statistical Programming for Business Analytics - Spring 2023/chatGPT-Tweets-Analysis/Extract new twitter info.ipynb Cell 5\u001b[0m in \u001b[0;36m3\n\u001b[1;32m      <a href='vscode-notebook-cell:/Users/alisdghnia/Desktop/School%20-%20Graduate/Statistical%20Programming%20for%20Business%20Analytics%20-%20Spring%202023/chatGPT-Tweets-Analysis/Extract%20new%20twitter%20info.ipynb#W4sZmlsZQ%3D%3D?line=0'>1</a>\u001b[0m data \u001b[39m=\u001b[39m []\n\u001b[1;32m      <a href='vscode-notebook-cell:/Users/alisdghnia/Desktop/School%20-%20Graduate/Statistical%20Programming%20for%20Business%20Analytics%20-%20Spring%202023/chatGPT-Tweets-Analysis/Extract%20new%20twitter%20info.ipynb#W4sZmlsZQ%3D%3D?line=1'>2</a>\u001b[0m \u001b[39mfor\u001b[39;00m i, \u001b[39mid\u001b[39m \u001b[39min\u001b[39;00m tqdm\u001b[39m.\u001b[39mtqdm(\u001b[39menumerate\u001b[39m(df[\u001b[39m'\u001b[39m\u001b[39mtweetID\u001b[39m\u001b[39m'\u001b[39m]), total\u001b[39m=\u001b[39m \u001b[39mlen\u001b[39m(df[\u001b[39m'\u001b[39m\u001b[39mtweetID\u001b[39m\u001b[39m'\u001b[39m])):\n\u001b[0;32m----> <a href='vscode-notebook-cell:/Users/alisdghnia/Desktop/School%20-%20Graduate/Statistical%20Programming%20for%20Business%20Analytics%20-%20Spring%202023/chatGPT-Tweets-Analysis/Extract%20new%20twitter%20info.ipynb#W4sZmlsZQ%3D%3D?line=2'>3</a>\u001b[0m     \u001b[39mfor\u001b[39;00m j \u001b[39min\u001b[39;00m sntwitter\u001b[39m.\u001b[39mTwitterTweetScraper(tweetId \u001b[39m=\u001b[39m \u001b[39mid\u001b[39m)\u001b[39m.\u001b[39mget_items():\n\u001b[1;32m      <a href='vscode-notebook-cell:/Users/alisdghnia/Desktop/School%20-%20Graduate/Statistical%20Programming%20for%20Business%20Analytics%20-%20Spring%202023/chatGPT-Tweets-Analysis/Extract%20new%20twitter%20info.ipynb#W4sZmlsZQ%3D%3D?line=3'>4</a>\u001b[0m         \u001b[39mtry\u001b[39;00m:\n\u001b[1;32m      <a href='vscode-notebook-cell:/Users/alisdghnia/Desktop/School%20-%20Graduate/Statistical%20Programming%20for%20Business%20Analytics%20-%20Spring%202023/chatGPT-Tweets-Analysis/Extract%20new%20twitter%20info.ipynb#W4sZmlsZQ%3D%3D?line=4'>5</a>\u001b[0m             new_data \u001b[39m=\u001b[39m [j\u001b[39m.\u001b[39mdate, j\u001b[39m.\u001b[39mrawContent, j\u001b[39m.\u001b[39muser\u001b[39m.\u001b[39musername, j\u001b[39m.\u001b[39muser\u001b[39m.\u001b[39mcreated, j\u001b[39m.\u001b[39muser\u001b[39m.\u001b[39mverified, j\u001b[39m.\u001b[39muser\u001b[39m.\u001b[39mfollowersCount, j\u001b[39m.\u001b[39muser\u001b[39m.\u001b[39mfriendsCount,\n\u001b[1;32m      <a href='vscode-notebook-cell:/Users/alisdghnia/Desktop/School%20-%20Graduate/Statistical%20Programming%20for%20Business%20Analytics%20-%20Spring%202023/chatGPT-Tweets-Analysis/Extract%20new%20twitter%20info.ipynb#W4sZmlsZQ%3D%3D?line=5'>6</a>\u001b[0m                         j\u001b[39m.\u001b[39mretweetCount, j\u001b[39m.\u001b[39mlikeCount, j\u001b[39m.\u001b[39muser\u001b[39m.\u001b[39mlocation, j\u001b[39m.\u001b[39muser\u001b[39m.\u001b[39mdescription, j\u001b[39m.\u001b[39mplace\u001b[39m.\u001b[39mcountry, j\u001b[39m.\u001b[39mlang, j\u001b[39m.\u001b[39mreplyCount, ]\n",
      "File \u001b[0;32m~/opt/anaconda3/envs/CryptoResearch/lib/python3.9/site-packages/snscrape/modules/twitter.py:1941\u001b[0m, in \u001b[0;36mTwitterTweetScraper.get_items\u001b[0;34m(self)\u001b[0m\n\u001b[1;32m   1939\u001b[0m url \u001b[39m=\u001b[39m \u001b[39m'\u001b[39m\u001b[39mhttps://twitter.com/i/api/graphql/NNiD2K-nEYUfXlMwGCocMQ/TweetDetail\u001b[39m\u001b[39m'\u001b[39m\n\u001b[1;32m   1940\u001b[0m \u001b[39mif\u001b[39;00m \u001b[39mself\u001b[39m\u001b[39m.\u001b[39m_mode \u001b[39mis\u001b[39;00m TwitterTweetScraperMode\u001b[39m.\u001b[39mSINGLE:\n\u001b[0;32m-> 1941\u001b[0m \tobj \u001b[39m=\u001b[39m \u001b[39mself\u001b[39;49m\u001b[39m.\u001b[39;49m_get_api_data(url, _TwitterAPIType\u001b[39m.\u001b[39;49mGRAPHQL, params \u001b[39m=\u001b[39;49m params)\n\u001b[1;32m   1942\u001b[0m \t\u001b[39mif\u001b[39;00m \u001b[39mnot\u001b[39;00m obj[\u001b[39m'\u001b[39m\u001b[39mdata\u001b[39m\u001b[39m'\u001b[39m]:\n\u001b[1;32m   1943\u001b[0m \t\t\u001b[39mreturn\u001b[39;00m\n",
      "File \u001b[0;32m~/opt/anaconda3/envs/CryptoResearch/lib/python3.9/site-packages/snscrape/modules/twitter.py:727\u001b[0m, in \u001b[0;36m_TwitterAPIScraper._get_api_data\u001b[0;34m(self, endpoint, apiType, params)\u001b[0m\n\u001b[1;32m    725\u001b[0m \u001b[39mif\u001b[39;00m apiType \u001b[39mis\u001b[39;00m _TwitterAPIType\u001b[39m.\u001b[39mGRAPHQL:\n\u001b[1;32m    726\u001b[0m \tparams \u001b[39m=\u001b[39m urllib\u001b[39m.\u001b[39mparse\u001b[39m.\u001b[39murlencode({k: json\u001b[39m.\u001b[39mdumps(v, separators \u001b[39m=\u001b[39m (\u001b[39m'\u001b[39m\u001b[39m,\u001b[39m\u001b[39m'\u001b[39m, \u001b[39m'\u001b[39m\u001b[39m:\u001b[39m\u001b[39m'\u001b[39m)) \u001b[39mfor\u001b[39;00m k, v \u001b[39min\u001b[39;00m params\u001b[39m.\u001b[39mitems()}, quote_via \u001b[39m=\u001b[39m urllib\u001b[39m.\u001b[39mparse\u001b[39m.\u001b[39mquote)\n\u001b[0;32m--> 727\u001b[0m r \u001b[39m=\u001b[39m \u001b[39mself\u001b[39;49m\u001b[39m.\u001b[39;49m_get(endpoint, params \u001b[39m=\u001b[39;49m params, headers \u001b[39m=\u001b[39;49m \u001b[39mself\u001b[39;49m\u001b[39m.\u001b[39;49m_apiHeaders, responseOkCallback \u001b[39m=\u001b[39;49m \u001b[39mself\u001b[39;49m\u001b[39m.\u001b[39;49m_check_api_response)\n\u001b[1;32m    728\u001b[0m \u001b[39mtry\u001b[39;00m:\n\u001b[1;32m    729\u001b[0m \tobj \u001b[39m=\u001b[39m r\u001b[39m.\u001b[39mjson()\n",
      "File \u001b[0;32m~/opt/anaconda3/envs/CryptoResearch/lib/python3.9/site-packages/snscrape/base.py:251\u001b[0m, in \u001b[0;36mScraper._get\u001b[0;34m(self, *args, **kwargs)\u001b[0m\n\u001b[1;32m    250\u001b[0m \u001b[39mdef\u001b[39;00m \u001b[39m_get\u001b[39m(\u001b[39mself\u001b[39m, \u001b[39m*\u001b[39margs, \u001b[39m*\u001b[39m\u001b[39m*\u001b[39mkwargs):\n\u001b[0;32m--> 251\u001b[0m \t\u001b[39mreturn\u001b[39;00m \u001b[39mself\u001b[39;49m\u001b[39m.\u001b[39;49m_request(\u001b[39m'\u001b[39;49m\u001b[39mGET\u001b[39;49m\u001b[39m'\u001b[39;49m, \u001b[39m*\u001b[39;49margs, \u001b[39m*\u001b[39;49m\u001b[39m*\u001b[39;49mkwargs)\n",
      "File \u001b[0;32m~/opt/anaconda3/envs/CryptoResearch/lib/python3.9/site-packages/snscrape/base.py:203\u001b[0m, in \u001b[0;36mScraper._request\u001b[0;34m(self, method, url, params, data, headers, timeout, responseOkCallback, allowRedirects, proxies)\u001b[0m\n\u001b[1;32m    201\u001b[0m \t_logger\u001b[39m.\u001b[39mdebug(\u001b[39mf\u001b[39m\u001b[39m'\u001b[39m\u001b[39m... with environmentSettings: \u001b[39m\u001b[39m{\u001b[39;00menvironmentSettings\u001b[39m!r}\u001b[39;00m\u001b[39m'\u001b[39m)\n\u001b[1;32m    202\u001b[0m \u001b[39mtry\u001b[39;00m:\n\u001b[0;32m--> 203\u001b[0m \tr \u001b[39m=\u001b[39m \u001b[39mself\u001b[39;49m\u001b[39m.\u001b[39;49m_session\u001b[39m.\u001b[39;49msend(req, allow_redirects \u001b[39m=\u001b[39;49m allowRedirects, timeout \u001b[39m=\u001b[39;49m timeout, \u001b[39m*\u001b[39;49m\u001b[39m*\u001b[39;49menvironmentSettings)\n\u001b[1;32m    204\u001b[0m \u001b[39mexcept\u001b[39;00m requests\u001b[39m.\u001b[39mexceptions\u001b[39m.\u001b[39mRequestException \u001b[39mas\u001b[39;00m exc:\n\u001b[1;32m    205\u001b[0m \t\u001b[39mif\u001b[39;00m attempt \u001b[39m<\u001b[39m \u001b[39mself\u001b[39m\u001b[39m.\u001b[39m_retries:\n",
      "File \u001b[0;32m~/opt/anaconda3/envs/CryptoResearch/lib/python3.9/site-packages/requests/sessions.py:701\u001b[0m, in \u001b[0;36mSession.send\u001b[0;34m(self, request, **kwargs)\u001b[0m\n\u001b[1;32m    698\u001b[0m start \u001b[39m=\u001b[39m preferred_clock()\n\u001b[1;32m    700\u001b[0m \u001b[39m# Send the request\u001b[39;00m\n\u001b[0;32m--> 701\u001b[0m r \u001b[39m=\u001b[39m adapter\u001b[39m.\u001b[39;49msend(request, \u001b[39m*\u001b[39;49m\u001b[39m*\u001b[39;49mkwargs)\n\u001b[1;32m    703\u001b[0m \u001b[39m# Total elapsed time of the request (approximately)\u001b[39;00m\n\u001b[1;32m    704\u001b[0m elapsed \u001b[39m=\u001b[39m preferred_clock() \u001b[39m-\u001b[39m start\n",
      "File \u001b[0;32m~/opt/anaconda3/envs/CryptoResearch/lib/python3.9/site-packages/requests/adapters.py:489\u001b[0m, in \u001b[0;36mHTTPAdapter.send\u001b[0;34m(self, request, stream, timeout, verify, cert, proxies)\u001b[0m\n\u001b[1;32m    487\u001b[0m \u001b[39mtry\u001b[39;00m:\n\u001b[1;32m    488\u001b[0m     \u001b[39mif\u001b[39;00m \u001b[39mnot\u001b[39;00m chunked:\n\u001b[0;32m--> 489\u001b[0m         resp \u001b[39m=\u001b[39m conn\u001b[39m.\u001b[39;49murlopen(\n\u001b[1;32m    490\u001b[0m             method\u001b[39m=\u001b[39;49mrequest\u001b[39m.\u001b[39;49mmethod,\n\u001b[1;32m    491\u001b[0m             url\u001b[39m=\u001b[39;49murl,\n\u001b[1;32m    492\u001b[0m             body\u001b[39m=\u001b[39;49mrequest\u001b[39m.\u001b[39;49mbody,\n\u001b[1;32m    493\u001b[0m             headers\u001b[39m=\u001b[39;49mrequest\u001b[39m.\u001b[39;49mheaders,\n\u001b[1;32m    494\u001b[0m             redirect\u001b[39m=\u001b[39;49m\u001b[39mFalse\u001b[39;49;00m,\n\u001b[1;32m    495\u001b[0m             assert_same_host\u001b[39m=\u001b[39;49m\u001b[39mFalse\u001b[39;49;00m,\n\u001b[1;32m    496\u001b[0m             preload_content\u001b[39m=\u001b[39;49m\u001b[39mFalse\u001b[39;49;00m,\n\u001b[1;32m    497\u001b[0m             decode_content\u001b[39m=\u001b[39;49m\u001b[39mFalse\u001b[39;49;00m,\n\u001b[1;32m    498\u001b[0m             retries\u001b[39m=\u001b[39;49m\u001b[39mself\u001b[39;49m\u001b[39m.\u001b[39;49mmax_retries,\n\u001b[1;32m    499\u001b[0m             timeout\u001b[39m=\u001b[39;49mtimeout,\n\u001b[1;32m    500\u001b[0m         )\n\u001b[1;32m    502\u001b[0m     \u001b[39m# Send the request.\u001b[39;00m\n\u001b[1;32m    503\u001b[0m     \u001b[39melse\u001b[39;00m:\n\u001b[1;32m    504\u001b[0m         \u001b[39mif\u001b[39;00m \u001b[39mhasattr\u001b[39m(conn, \u001b[39m\"\u001b[39m\u001b[39mproxy_pool\u001b[39m\u001b[39m\"\u001b[39m):\n",
      "File \u001b[0;32m~/opt/anaconda3/envs/CryptoResearch/lib/python3.9/site-packages/urllib3/connectionpool.py:703\u001b[0m, in \u001b[0;36mHTTPConnectionPool.urlopen\u001b[0;34m(self, method, url, body, headers, retries, redirect, assert_same_host, timeout, pool_timeout, release_conn, chunked, body_pos, **response_kw)\u001b[0m\n\u001b[1;32m    700\u001b[0m     \u001b[39mself\u001b[39m\u001b[39m.\u001b[39m_prepare_proxy(conn)\n\u001b[1;32m    702\u001b[0m \u001b[39m# Make the request on the httplib connection object.\u001b[39;00m\n\u001b[0;32m--> 703\u001b[0m httplib_response \u001b[39m=\u001b[39m \u001b[39mself\u001b[39;49m\u001b[39m.\u001b[39;49m_make_request(\n\u001b[1;32m    704\u001b[0m     conn,\n\u001b[1;32m    705\u001b[0m     method,\n\u001b[1;32m    706\u001b[0m     url,\n\u001b[1;32m    707\u001b[0m     timeout\u001b[39m=\u001b[39;49mtimeout_obj,\n\u001b[1;32m    708\u001b[0m     body\u001b[39m=\u001b[39;49mbody,\n\u001b[1;32m    709\u001b[0m     headers\u001b[39m=\u001b[39;49mheaders,\n\u001b[1;32m    710\u001b[0m     chunked\u001b[39m=\u001b[39;49mchunked,\n\u001b[1;32m    711\u001b[0m )\n\u001b[1;32m    713\u001b[0m \u001b[39m# If we're going to release the connection in ``finally:``, then\u001b[39;00m\n\u001b[1;32m    714\u001b[0m \u001b[39m# the response doesn't need to know about the connection. Otherwise\u001b[39;00m\n\u001b[1;32m    715\u001b[0m \u001b[39m# it will also try to release it and we'll have a double-release\u001b[39;00m\n\u001b[1;32m    716\u001b[0m \u001b[39m# mess.\u001b[39;00m\n\u001b[1;32m    717\u001b[0m response_conn \u001b[39m=\u001b[39m conn \u001b[39mif\u001b[39;00m \u001b[39mnot\u001b[39;00m release_conn \u001b[39melse\u001b[39;00m \u001b[39mNone\u001b[39;00m\n",
      "File \u001b[0;32m~/opt/anaconda3/envs/CryptoResearch/lib/python3.9/site-packages/urllib3/connectionpool.py:449\u001b[0m, in \u001b[0;36mHTTPConnectionPool._make_request\u001b[0;34m(self, conn, method, url, timeout, chunked, **httplib_request_kw)\u001b[0m\n\u001b[1;32m    444\u001b[0m             httplib_response \u001b[39m=\u001b[39m conn\u001b[39m.\u001b[39mgetresponse()\n\u001b[1;32m    445\u001b[0m         \u001b[39mexcept\u001b[39;00m \u001b[39mBaseException\u001b[39;00m \u001b[39mas\u001b[39;00m e:\n\u001b[1;32m    446\u001b[0m             \u001b[39m# Remove the TypeError from the exception chain in\u001b[39;00m\n\u001b[1;32m    447\u001b[0m             \u001b[39m# Python 3 (including for exceptions like SystemExit).\u001b[39;00m\n\u001b[1;32m    448\u001b[0m             \u001b[39m# Otherwise it looks like a bug in the code.\u001b[39;00m\n\u001b[0;32m--> 449\u001b[0m             six\u001b[39m.\u001b[39;49mraise_from(e, \u001b[39mNone\u001b[39;49;00m)\n\u001b[1;32m    450\u001b[0m \u001b[39mexcept\u001b[39;00m (SocketTimeout, BaseSSLError, SocketError) \u001b[39mas\u001b[39;00m e:\n\u001b[1;32m    451\u001b[0m     \u001b[39mself\u001b[39m\u001b[39m.\u001b[39m_raise_timeout(err\u001b[39m=\u001b[39me, url\u001b[39m=\u001b[39murl, timeout_value\u001b[39m=\u001b[39mread_timeout)\n",
      "File \u001b[0;32m<string>:3\u001b[0m, in \u001b[0;36mraise_from\u001b[0;34m(value, from_value)\u001b[0m\n",
      "File \u001b[0;32m~/opt/anaconda3/envs/CryptoResearch/lib/python3.9/site-packages/urllib3/connectionpool.py:444\u001b[0m, in \u001b[0;36mHTTPConnectionPool._make_request\u001b[0;34m(self, conn, method, url, timeout, chunked, **httplib_request_kw)\u001b[0m\n\u001b[1;32m    441\u001b[0m \u001b[39mexcept\u001b[39;00m \u001b[39mTypeError\u001b[39;00m:\n\u001b[1;32m    442\u001b[0m     \u001b[39m# Python 3\u001b[39;00m\n\u001b[1;32m    443\u001b[0m     \u001b[39mtry\u001b[39;00m:\n\u001b[0;32m--> 444\u001b[0m         httplib_response \u001b[39m=\u001b[39m conn\u001b[39m.\u001b[39;49mgetresponse()\n\u001b[1;32m    445\u001b[0m     \u001b[39mexcept\u001b[39;00m \u001b[39mBaseException\u001b[39;00m \u001b[39mas\u001b[39;00m e:\n\u001b[1;32m    446\u001b[0m         \u001b[39m# Remove the TypeError from the exception chain in\u001b[39;00m\n\u001b[1;32m    447\u001b[0m         \u001b[39m# Python 3 (including for exceptions like SystemExit).\u001b[39;00m\n\u001b[1;32m    448\u001b[0m         \u001b[39m# Otherwise it looks like a bug in the code.\u001b[39;00m\n\u001b[1;32m    449\u001b[0m         six\u001b[39m.\u001b[39mraise_from(e, \u001b[39mNone\u001b[39;00m)\n",
      "File \u001b[0;32m~/opt/anaconda3/envs/CryptoResearch/lib/python3.9/http/client.py:1377\u001b[0m, in \u001b[0;36mHTTPConnection.getresponse\u001b[0;34m(self)\u001b[0m\n\u001b[1;32m   1375\u001b[0m \u001b[39mtry\u001b[39;00m:\n\u001b[1;32m   1376\u001b[0m     \u001b[39mtry\u001b[39;00m:\n\u001b[0;32m-> 1377\u001b[0m         response\u001b[39m.\u001b[39;49mbegin()\n\u001b[1;32m   1378\u001b[0m     \u001b[39mexcept\u001b[39;00m \u001b[39mConnectionError\u001b[39;00m:\n\u001b[1;32m   1379\u001b[0m         \u001b[39mself\u001b[39m\u001b[39m.\u001b[39mclose()\n",
      "File \u001b[0;32m~/opt/anaconda3/envs/CryptoResearch/lib/python3.9/http/client.py:320\u001b[0m, in \u001b[0;36mHTTPResponse.begin\u001b[0;34m(self)\u001b[0m\n\u001b[1;32m    318\u001b[0m \u001b[39m# read until we get a non-100 response\u001b[39;00m\n\u001b[1;32m    319\u001b[0m \u001b[39mwhile\u001b[39;00m \u001b[39mTrue\u001b[39;00m:\n\u001b[0;32m--> 320\u001b[0m     version, status, reason \u001b[39m=\u001b[39m \u001b[39mself\u001b[39;49m\u001b[39m.\u001b[39;49m_read_status()\n\u001b[1;32m    321\u001b[0m     \u001b[39mif\u001b[39;00m status \u001b[39m!=\u001b[39m CONTINUE:\n\u001b[1;32m    322\u001b[0m         \u001b[39mbreak\u001b[39;00m\n",
      "File \u001b[0;32m~/opt/anaconda3/envs/CryptoResearch/lib/python3.9/http/client.py:281\u001b[0m, in \u001b[0;36mHTTPResponse._read_status\u001b[0;34m(self)\u001b[0m\n\u001b[1;32m    280\u001b[0m \u001b[39mdef\u001b[39;00m \u001b[39m_read_status\u001b[39m(\u001b[39mself\u001b[39m):\n\u001b[0;32m--> 281\u001b[0m     line \u001b[39m=\u001b[39m \u001b[39mstr\u001b[39m(\u001b[39mself\u001b[39;49m\u001b[39m.\u001b[39;49mfp\u001b[39m.\u001b[39;49mreadline(_MAXLINE \u001b[39m+\u001b[39;49m \u001b[39m1\u001b[39;49m), \u001b[39m\"\u001b[39m\u001b[39miso-8859-1\u001b[39m\u001b[39m\"\u001b[39m)\n\u001b[1;32m    282\u001b[0m     \u001b[39mif\u001b[39;00m \u001b[39mlen\u001b[39m(line) \u001b[39m>\u001b[39m _MAXLINE:\n\u001b[1;32m    283\u001b[0m         \u001b[39mraise\u001b[39;00m LineTooLong(\u001b[39m\"\u001b[39m\u001b[39mstatus line\u001b[39m\u001b[39m\"\u001b[39m)\n",
      "File \u001b[0;32m~/opt/anaconda3/envs/CryptoResearch/lib/python3.9/socket.py:704\u001b[0m, in \u001b[0;36mSocketIO.readinto\u001b[0;34m(self, b)\u001b[0m\n\u001b[1;32m    702\u001b[0m \u001b[39mwhile\u001b[39;00m \u001b[39mTrue\u001b[39;00m:\n\u001b[1;32m    703\u001b[0m     \u001b[39mtry\u001b[39;00m:\n\u001b[0;32m--> 704\u001b[0m         \u001b[39mreturn\u001b[39;00m \u001b[39mself\u001b[39;49m\u001b[39m.\u001b[39;49m_sock\u001b[39m.\u001b[39;49mrecv_into(b)\n\u001b[1;32m    705\u001b[0m     \u001b[39mexcept\u001b[39;00m timeout:\n\u001b[1;32m    706\u001b[0m         \u001b[39mself\u001b[39m\u001b[39m.\u001b[39m_timeout_occurred \u001b[39m=\u001b[39m \u001b[39mTrue\u001b[39;00m\n",
      "File \u001b[0;32m~/opt/anaconda3/envs/CryptoResearch/lib/python3.9/ssl.py:1242\u001b[0m, in \u001b[0;36mSSLSocket.recv_into\u001b[0;34m(self, buffer, nbytes, flags)\u001b[0m\n\u001b[1;32m   1238\u001b[0m     \u001b[39mif\u001b[39;00m flags \u001b[39m!=\u001b[39m \u001b[39m0\u001b[39m:\n\u001b[1;32m   1239\u001b[0m         \u001b[39mraise\u001b[39;00m \u001b[39mValueError\u001b[39;00m(\n\u001b[1;32m   1240\u001b[0m           \u001b[39m\"\u001b[39m\u001b[39mnon-zero flags not allowed in calls to recv_into() on \u001b[39m\u001b[39m%s\u001b[39;00m\u001b[39m\"\u001b[39m \u001b[39m%\u001b[39m\n\u001b[1;32m   1241\u001b[0m           \u001b[39mself\u001b[39m\u001b[39m.\u001b[39m\u001b[39m__class__\u001b[39m)\n\u001b[0;32m-> 1242\u001b[0m     \u001b[39mreturn\u001b[39;00m \u001b[39mself\u001b[39;49m\u001b[39m.\u001b[39;49mread(nbytes, buffer)\n\u001b[1;32m   1243\u001b[0m \u001b[39melse\u001b[39;00m:\n\u001b[1;32m   1244\u001b[0m     \u001b[39mreturn\u001b[39;00m \u001b[39msuper\u001b[39m()\u001b[39m.\u001b[39mrecv_into(buffer, nbytes, flags)\n",
      "File \u001b[0;32m~/opt/anaconda3/envs/CryptoResearch/lib/python3.9/ssl.py:1100\u001b[0m, in \u001b[0;36mSSLSocket.read\u001b[0;34m(self, len, buffer)\u001b[0m\n\u001b[1;32m   1098\u001b[0m \u001b[39mtry\u001b[39;00m:\n\u001b[1;32m   1099\u001b[0m     \u001b[39mif\u001b[39;00m buffer \u001b[39mis\u001b[39;00m \u001b[39mnot\u001b[39;00m \u001b[39mNone\u001b[39;00m:\n\u001b[0;32m-> 1100\u001b[0m         \u001b[39mreturn\u001b[39;00m \u001b[39mself\u001b[39;49m\u001b[39m.\u001b[39;49m_sslobj\u001b[39m.\u001b[39;49mread(\u001b[39mlen\u001b[39;49m, buffer)\n\u001b[1;32m   1101\u001b[0m     \u001b[39melse\u001b[39;00m:\n\u001b[1;32m   1102\u001b[0m         \u001b[39mreturn\u001b[39;00m \u001b[39mself\u001b[39m\u001b[39m.\u001b[39m_sslobj\u001b[39m.\u001b[39mread(\u001b[39mlen\u001b[39m)\n",
      "\u001b[0;31mKeyboardInterrupt\u001b[0m: "
     ]
    }
   ],
   "source": [
    "data = []\n",
    "for i, id in tqdm.tqdm(enumerate(df['tweetID']), total= len(df['tweetID'])):\n",
    "    for j in sntwitter.TwitterTweetScraper(tweetId = id).get_items():\n",
    "        try:\n",
    "            new_data = [j.date, j.rawContent, j.user.username, j.user.created, j.user.verified, j.user.followersCount, j.user.friendsCount,\n",
    "                        j.retweetCount, j.likeCount, j.user.location, j.user.description, j.place.country, j.lang, j.replyCount, ]\n",
    "        \n",
    "        except Exception as e:\n",
    "            # new_data = ['-', '-', '-', '-', '-', '-', '-', '-', '-', '-', '-', '-', '-', '-']\n",
    "            new_data = [np.nan, np.nan, np.nan, np.nan, np.nan, np.nan, np.nan, np.nan, np.nan, np.nan, np.nan, np.nan, np.nan, np.nan]\n",
    "\n",
    "        data.append(new_data)\n",
    "\n",
    "    if i > len(df['tweetID']):\n",
    "        break\n",
    "\n",
    "df2 = pd.DataFrame(data, columns = ['date', 'tweet', 'username', 'user_created', 'user_verified', 'followersCount', 'friendsCount', \n",
    "                                    'retweetCount', 'likeCount', 'location', 'user_description', 'country', 'lang', 'replyCount'])\n",
    "\n",
    "# add today's date to the dataframe\n",
    "df2['date_scraped'] = pd.to_datetime('today').date()\n",
    "\n",
    "# add a row to the dataframe in the beginning and assign null values since the first row is missing with the above code\n",
    "df2.loc[-1] = np.nan\n",
    "df2.index = df2.index + 1\n",
    "df2 = df2.sort_index()\n",
    "\n",
    "# save the dataframe as a csv file\n",
    "df2.to_csv('chatGPT2.csv', index = False)"
   ]
  },
  {
   "cell_type": "code",
   "execution_count": 7,
   "metadata": {},
   "outputs": [
    {
     "data": {
      "text/plain": [
       "126074"
      ]
     },
     "execution_count": 7,
     "metadata": {},
     "output_type": "execute_result"
    }
   ],
   "source": [
    "len(data)"
   ]
  },
  {
   "cell_type": "code",
   "execution_count": 8,
   "metadata": {},
   "outputs": [],
   "source": [
    "test_data = pd.DataFrame(data, columns = ['date', 'tweet', 'username', 'user_created', 'user_verified', 'followersCount', 'friendsCount',\n",
    "                                          'retweetCount', 'likeCount', 'location', 'user_description', 'country', 'lang', 'replyCount'])"
   ]
  },
  {
   "cell_type": "code",
   "execution_count": 10,
   "metadata": {},
   "outputs": [
    {
     "data": {
      "text/html": [
       "<div>\n",
       "<style scoped>\n",
       "    .dataframe tbody tr th:only-of-type {\n",
       "        vertical-align: middle;\n",
       "    }\n",
       "\n",
       "    .dataframe tbody tr th {\n",
       "        vertical-align: top;\n",
       "    }\n",
       "\n",
       "    .dataframe thead th {\n",
       "        text-align: right;\n",
       "    }\n",
       "</style>\n",
       "<table border=\"1\" class=\"dataframe\">\n",
       "  <thead>\n",
       "    <tr style=\"text-align: right;\">\n",
       "      <th></th>\n",
       "      <th>date</th>\n",
       "      <th>tweet</th>\n",
       "      <th>username</th>\n",
       "      <th>user_created</th>\n",
       "      <th>user_verified</th>\n",
       "      <th>followersCount</th>\n",
       "      <th>friendsCount</th>\n",
       "      <th>retweetCount</th>\n",
       "      <th>likeCount</th>\n",
       "      <th>location</th>\n",
       "      <th>user_description</th>\n",
       "      <th>country</th>\n",
       "      <th>lang</th>\n",
       "      <th>replyCount</th>\n",
       "    </tr>\n",
       "  </thead>\n",
       "  <tbody>\n",
       "    <tr>\n",
       "      <th>126069</th>\n",
       "      <td>NaT</td>\n",
       "      <td>NaN</td>\n",
       "      <td>NaN</td>\n",
       "      <td>NaT</td>\n",
       "      <td>NaN</td>\n",
       "      <td>NaN</td>\n",
       "      <td>NaN</td>\n",
       "      <td>NaN</td>\n",
       "      <td>NaN</td>\n",
       "      <td>NaN</td>\n",
       "      <td>NaN</td>\n",
       "      <td>NaN</td>\n",
       "      <td>NaN</td>\n",
       "      <td>NaN</td>\n",
       "    </tr>\n",
       "    <tr>\n",
       "      <th>126070</th>\n",
       "      <td>NaT</td>\n",
       "      <td>NaN</td>\n",
       "      <td>NaN</td>\n",
       "      <td>NaT</td>\n",
       "      <td>NaN</td>\n",
       "      <td>NaN</td>\n",
       "      <td>NaN</td>\n",
       "      <td>NaN</td>\n",
       "      <td>NaN</td>\n",
       "      <td>NaN</td>\n",
       "      <td>NaN</td>\n",
       "      <td>NaN</td>\n",
       "      <td>NaN</td>\n",
       "      <td>NaN</td>\n",
       "    </tr>\n",
       "    <tr>\n",
       "      <th>126071</th>\n",
       "      <td>NaT</td>\n",
       "      <td>NaN</td>\n",
       "      <td>NaN</td>\n",
       "      <td>NaT</td>\n",
       "      <td>NaN</td>\n",
       "      <td>NaN</td>\n",
       "      <td>NaN</td>\n",
       "      <td>NaN</td>\n",
       "      <td>NaN</td>\n",
       "      <td>NaN</td>\n",
       "      <td>NaN</td>\n",
       "      <td>NaN</td>\n",
       "      <td>NaN</td>\n",
       "      <td>NaN</td>\n",
       "    </tr>\n",
       "    <tr>\n",
       "      <th>126072</th>\n",
       "      <td>NaT</td>\n",
       "      <td>NaN</td>\n",
       "      <td>NaN</td>\n",
       "      <td>NaT</td>\n",
       "      <td>NaN</td>\n",
       "      <td>NaN</td>\n",
       "      <td>NaN</td>\n",
       "      <td>NaN</td>\n",
       "      <td>NaN</td>\n",
       "      <td>NaN</td>\n",
       "      <td>NaN</td>\n",
       "      <td>NaN</td>\n",
       "      <td>NaN</td>\n",
       "      <td>NaN</td>\n",
       "    </tr>\n",
       "    <tr>\n",
       "      <th>126073</th>\n",
       "      <td>NaT</td>\n",
       "      <td>NaN</td>\n",
       "      <td>NaN</td>\n",
       "      <td>NaT</td>\n",
       "      <td>NaN</td>\n",
       "      <td>NaN</td>\n",
       "      <td>NaN</td>\n",
       "      <td>NaN</td>\n",
       "      <td>NaN</td>\n",
       "      <td>NaN</td>\n",
       "      <td>NaN</td>\n",
       "      <td>NaN</td>\n",
       "      <td>NaN</td>\n",
       "      <td>NaN</td>\n",
       "    </tr>\n",
       "  </tbody>\n",
       "</table>\n",
       "</div>"
      ],
      "text/plain": [
       "       date tweet username user_created user_verified  followersCount  \\\n",
       "126069  NaT   NaN      NaN          NaT           NaN             NaN   \n",
       "126070  NaT   NaN      NaN          NaT           NaN             NaN   \n",
       "126071  NaT   NaN      NaN          NaT           NaN             NaN   \n",
       "126072  NaT   NaN      NaN          NaT           NaN             NaN   \n",
       "126073  NaT   NaN      NaN          NaT           NaN             NaN   \n",
       "\n",
       "        friendsCount  retweetCount  likeCount location user_description  \\\n",
       "126069           NaN           NaN        NaN      NaN              NaN   \n",
       "126070           NaN           NaN        NaN      NaN              NaN   \n",
       "126071           NaN           NaN        NaN      NaN              NaN   \n",
       "126072           NaN           NaN        NaN      NaN              NaN   \n",
       "126073           NaN           NaN        NaN      NaN              NaN   \n",
       "\n",
       "       country lang  replyCount  \n",
       "126069     NaN  NaN         NaN  \n",
       "126070     NaN  NaN         NaN  \n",
       "126071     NaN  NaN         NaN  \n",
       "126072     NaN  NaN         NaN  \n",
       "126073     NaN  NaN         NaN  "
      ]
     },
     "execution_count": 10,
     "metadata": {},
     "output_type": "execute_result"
    }
   ],
   "source": [
    "test_data.tail()"
   ]
  },
  {
   "cell_type": "code",
   "execution_count": 11,
   "metadata": {},
   "outputs": [],
   "source": [
    "test_data.to_csv('test_data.csv')"
   ]
  },
  {
   "cell_type": "code",
   "execution_count": 18,
   "metadata": {},
   "outputs": [
    {
     "data": {
      "application/vnd.jupyter.widget-view+json": {
       "model_id": "81804f7f7e5c413a83ddc307e71a7432",
       "version_major": 2,
       "version_minor": 0
      },
      "text/plain": [
       "  0%|          | 0/53178 [00:00<?, ?it/s]"
      ]
     },
     "metadata": {},
     "output_type": "display_data"
    },
    {
     "name": "stderr",
     "output_type": "stream",
     "text": [
      "/var/folders/_9/qq7pw_fx125c812gfv1wl_180000gn/T/ipykernel_10487/3789065891.py:6: DeprecatedFeatureWarning: description is deprecated, use renderedDescription instead\n",
      "  j.retweetCount, j.likeCount, j.user.location, j.user.description, j.place.country, j.lang, j.replyCount, ]\n",
      "Unavailable user in card on tweet 1603024513784221697\n",
      "Unavailable user in card on tweet 1603024513784221697\n",
      "User 873939764876943363 not found in user refs in card on tweet 1603024513784221697\n",
      "User 873939764876943363 not found in user refs in card on tweet 1603024513784221697\n",
      "Unavailable user in card on tweet 1602695056523149318\n",
      "User 1595487472297062400 not found in user refs in card on tweet 1602695056523149318\n",
      "Unavailable user in card on tweet 1601921649820958721\n",
      "User 3067393243 not found in user refs in card on tweet 1601921649820958721\n",
      "Unavailable user in card on tweet 1601239597144764416\n",
      "User 3067393243 not found in user refs in card on tweet 1601239597144764416\n"
     ]
    },
    {
     "ename": "KeyError",
     "evalue": "'result'",
     "output_type": "error",
     "traceback": [
      "\u001b[0;31m---------------------------------------------------------------------------\u001b[0m",
      "\u001b[0;31mKeyError\u001b[0m                                  Traceback (most recent call last)",
      "\u001b[1;32m/Users/alisdghnia/Desktop/School - Graduate/Statistical Programming for Business Analytics - Spring 2023/chatGPT-Tweets-Analysis/Extract new twitter info.ipynb Cell 10\u001b[0m in \u001b[0;36m3\n\u001b[1;32m      <a href='vscode-notebook-cell:/Users/alisdghnia/Desktop/School%20-%20Graduate/Statistical%20Programming%20for%20Business%20Analytics%20-%20Spring%202023/chatGPT-Tweets-Analysis/Extract%20new%20twitter%20info.ipynb#X21sZmlsZQ%3D%3D?line=0'>1</a>\u001b[0m data2 \u001b[39m=\u001b[39m []\n\u001b[1;32m      <a href='vscode-notebook-cell:/Users/alisdghnia/Desktop/School%20-%20Graduate/Statistical%20Programming%20for%20Business%20Analytics%20-%20Spring%202023/chatGPT-Tweets-Analysis/Extract%20new%20twitter%20info.ipynb#X21sZmlsZQ%3D%3D?line=1'>2</a>\u001b[0m \u001b[39mfor\u001b[39;00m i, \u001b[39mid\u001b[39m \u001b[39min\u001b[39;00m tqdm\u001b[39m.\u001b[39mtqdm(\u001b[39menumerate\u001b[39m(df[\u001b[39m'\u001b[39m\u001b[39mtweetID\u001b[39m\u001b[39m'\u001b[39m][\u001b[39m126074\u001b[39m:]), total\u001b[39m=\u001b[39m \u001b[39mlen\u001b[39m(df[\u001b[39m'\u001b[39m\u001b[39mtweetID\u001b[39m\u001b[39m'\u001b[39m])\u001b[39m-\u001b[39m\u001b[39m126074\u001b[39m):\n\u001b[0;32m----> <a href='vscode-notebook-cell:/Users/alisdghnia/Desktop/School%20-%20Graduate/Statistical%20Programming%20for%20Business%20Analytics%20-%20Spring%202023/chatGPT-Tweets-Analysis/Extract%20new%20twitter%20info.ipynb#X21sZmlsZQ%3D%3D?line=2'>3</a>\u001b[0m     \u001b[39mfor\u001b[39;00m j \u001b[39min\u001b[39;00m sntwitter\u001b[39m.\u001b[39mTwitterTweetScraper(tweetId \u001b[39m=\u001b[39m \u001b[39mid\u001b[39m)\u001b[39m.\u001b[39mget_items():\n\u001b[1;32m      <a href='vscode-notebook-cell:/Users/alisdghnia/Desktop/School%20-%20Graduate/Statistical%20Programming%20for%20Business%20Analytics%20-%20Spring%202023/chatGPT-Tweets-Analysis/Extract%20new%20twitter%20info.ipynb#X21sZmlsZQ%3D%3D?line=3'>4</a>\u001b[0m         \u001b[39mtry\u001b[39;00m:\n\u001b[1;32m      <a href='vscode-notebook-cell:/Users/alisdghnia/Desktop/School%20-%20Graduate/Statistical%20Programming%20for%20Business%20Analytics%20-%20Spring%202023/chatGPT-Tweets-Analysis/Extract%20new%20twitter%20info.ipynb#X21sZmlsZQ%3D%3D?line=4'>5</a>\u001b[0m             new_data \u001b[39m=\u001b[39m [j\u001b[39m.\u001b[39mdate, j\u001b[39m.\u001b[39mrawContent, j\u001b[39m.\u001b[39muser\u001b[39m.\u001b[39musername, j\u001b[39m.\u001b[39muser\u001b[39m.\u001b[39mcreated, j\u001b[39m.\u001b[39muser\u001b[39m.\u001b[39mverified, j\u001b[39m.\u001b[39muser\u001b[39m.\u001b[39mfollowersCount, j\u001b[39m.\u001b[39muser\u001b[39m.\u001b[39mfriendsCount,\n\u001b[1;32m      <a href='vscode-notebook-cell:/Users/alisdghnia/Desktop/School%20-%20Graduate/Statistical%20Programming%20for%20Business%20Analytics%20-%20Spring%202023/chatGPT-Tweets-Analysis/Extract%20new%20twitter%20info.ipynb#X21sZmlsZQ%3D%3D?line=5'>6</a>\u001b[0m                         j\u001b[39m.\u001b[39mretweetCount, j\u001b[39m.\u001b[39mlikeCount, j\u001b[39m.\u001b[39muser\u001b[39m.\u001b[39mlocation, j\u001b[39m.\u001b[39muser\u001b[39m.\u001b[39mdescription, j\u001b[39m.\u001b[39mplace\u001b[39m.\u001b[39mcountry, j\u001b[39m.\u001b[39mlang, j\u001b[39m.\u001b[39mreplyCount, ]\n",
      "File \u001b[0;32m~/opt/anaconda3/envs/CryptoResearch/lib/python3.9/site-packages/snscrape/modules/twitter.py:1949\u001b[0m, in \u001b[0;36mTwitterTweetScraper.get_items\u001b[0;34m(self)\u001b[0m\n\u001b[1;32m   1947\u001b[0m \t\t\u001b[39mfor\u001b[39;00m entry \u001b[39min\u001b[39;00m instruction[\u001b[39m'\u001b[39m\u001b[39mentries\u001b[39m\u001b[39m'\u001b[39m]:\n\u001b[1;32m   1948\u001b[0m \t\t\t\u001b[39mif\u001b[39;00m entry[\u001b[39m'\u001b[39m\u001b[39mentryId\u001b[39m\u001b[39m'\u001b[39m] \u001b[39m==\u001b[39m \u001b[39mf\u001b[39m\u001b[39m'\u001b[39m\u001b[39mtweet-\u001b[39m\u001b[39m{\u001b[39;00m\u001b[39mself\u001b[39m\u001b[39m.\u001b[39m_tweetId\u001b[39m}\u001b[39;00m\u001b[39m'\u001b[39m \u001b[39mand\u001b[39;00m entry[\u001b[39m'\u001b[39m\u001b[39mcontent\u001b[39m\u001b[39m'\u001b[39m][\u001b[39m'\u001b[39m\u001b[39mentryType\u001b[39m\u001b[39m'\u001b[39m] \u001b[39m==\u001b[39m \u001b[39m'\u001b[39m\u001b[39mTimelineTimelineItem\u001b[39m\u001b[39m'\u001b[39m \u001b[39mand\u001b[39;00m entry[\u001b[39m'\u001b[39m\u001b[39mcontent\u001b[39m\u001b[39m'\u001b[39m][\u001b[39m'\u001b[39m\u001b[39mitemContent\u001b[39m\u001b[39m'\u001b[39m][\u001b[39m'\u001b[39m\u001b[39mitemType\u001b[39m\u001b[39m'\u001b[39m] \u001b[39m==\u001b[39m \u001b[39m'\u001b[39m\u001b[39mTimelineTweet\u001b[39m\u001b[39m'\u001b[39m:\n\u001b[0;32m-> 1949\u001b[0m \t\t\t\t\u001b[39myield\u001b[39;00m \u001b[39mself\u001b[39m\u001b[39m.\u001b[39m_graphql_timeline_tweet_item_result_to_tweet(entry[\u001b[39m'\u001b[39;49m\u001b[39mcontent\u001b[39;49m\u001b[39m'\u001b[39;49m][\u001b[39m'\u001b[39;49m\u001b[39mitemContent\u001b[39;49m\u001b[39m'\u001b[39;49m][\u001b[39m'\u001b[39;49m\u001b[39mtweet_results\u001b[39;49m\u001b[39m'\u001b[39;49m][\u001b[39m'\u001b[39;49m\u001b[39mresult\u001b[39;49m\u001b[39m'\u001b[39;49m], tweetId \u001b[39m=\u001b[39m \u001b[39mself\u001b[39m\u001b[39m.\u001b[39m_tweetId)\n\u001b[1;32m   1950\u001b[0m \t\t\t\t\u001b[39mbreak\u001b[39;00m\n\u001b[1;32m   1951\u001b[0m \u001b[39melif\u001b[39;00m \u001b[39mself\u001b[39m\u001b[39m.\u001b[39m_mode \u001b[39mis\u001b[39;00m TwitterTweetScraperMode\u001b[39m.\u001b[39mSCROLL:\n",
      "\u001b[0;31mKeyError\u001b[0m: 'result'"
     ]
    }
   ],
   "source": [
    "data2 = []\n",
    "for i, id in tqdm.tqdm(enumerate(df['tweetID'][126074:]), total= len(df['tweetID'])-126074):\n",
    "    for j in sntwitter.TwitterTweetScraper(tweetId = id).get_items():\n",
    "        try:\n",
    "            new_data = [j.date, j.rawContent, j.user.username, j.user.created, j.user.verified, j.user.followersCount, j.user.friendsCount,\n",
    "                        j.retweetCount, j.likeCount, j.user.location, j.user.description, j.place.country, j.lang, j.replyCount, ]\n",
    "        \n",
    "        except Exception as e:\n",
    "            # new_data = ['-', '-', '-', '-', '-', '-', '-', '-', '-', '-', '-', '-', '-', '-']\n",
    "            new_data = [np.nan, np.nan, np.nan, np.nan, np.nan, np.nan, np.nan, np.nan, np.nan, np.nan, np.nan, np.nan, np.nan, np.nan]\n",
    "\n",
    "        data2.append(new_data)\n",
    "\n",
    "    if i > len(df['tweetID'])-126074:\n",
    "        break"
   ]
  },
  {
   "cell_type": "code",
   "execution_count": 19,
   "metadata": {},
   "outputs": [],
   "source": [
    "test_data2 = pd.DataFrame(data2, columns = ['date', 'tweet', 'username', 'user_created', 'user_verified', 'followersCount', 'friendsCount',\n",
    "                                            'retweetCount', 'likeCount', 'location', 'user_description', 'country', 'lang', 'replyCount'])"
   ]
  },
  {
   "cell_type": "code",
   "execution_count": 26,
   "metadata": {},
   "outputs": [],
   "source": [
    "test_data2.to_csv('test_data2.csv')"
   ]
  },
  {
   "cell_type": "code",
   "execution_count": 27,
   "metadata": {},
   "outputs": [
    {
     "data": {
      "text/plain": [
       "154084"
      ]
     },
     "execution_count": 27,
     "metadata": {},
     "output_type": "execute_result"
    }
   ],
   "source": [
    "len(data2) + len(data)"
   ]
  },
  {
   "cell_type": "code",
   "execution_count": 28,
   "metadata": {},
   "outputs": [
    {
     "data": {
      "application/vnd.jupyter.widget-view+json": {
       "model_id": "91e6edd2ec0b473d8a2695759d269c29",
       "version_major": 2,
       "version_minor": 0
      },
      "text/plain": [
       "  0%|          | 0/25168 [00:00<?, ?it/s]"
      ]
     },
     "metadata": {},
     "output_type": "display_data"
    },
    {
     "name": "stderr",
     "output_type": "stream",
     "text": [
      "/var/folders/_9/qq7pw_fx125c812gfv1wl_180000gn/T/ipykernel_10487/1696863770.py:6: DeprecatedFeatureWarning: description is deprecated, use renderedDescription instead\n",
      "  j.retweetCount, j.likeCount, j.user.location, j.user.description, j.place.country, j.lang, j.replyCount, ]\n",
      "Unavailable user in card on tweet 1600042515670994944\n",
      "User 633124104 not found in user refs in card on tweet 1600042515670994944\n",
      "Unavailable user in card on tweet 1599661274962440193\n",
      "User 1180544389778755584 not found in user refs in card on tweet 1599661274962440193\n",
      "Unavailable user in card on tweet 1598654087314087936\n",
      "User 933016351756742656 not found in user refs in card on tweet 1598654087314087936\n"
     ]
    }
   ],
   "source": [
    "data3 = []\n",
    "for i, id in tqdm.tqdm(enumerate(df['tweetID'][154084:]), total= len(df['tweetID'])-154084):\n",
    "    for j in sntwitter.TwitterTweetScraper(tweetId = id).get_items():\n",
    "        try:\n",
    "            new_data = [j.date, j.rawContent, j.user.username, j.user.created, j.user.verified, j.user.followersCount, j.user.friendsCount,\n",
    "                        j.retweetCount, j.likeCount, j.user.location, j.user.description, j.place.country, j.lang, j.replyCount, ]\n",
    "        \n",
    "        except Exception as e:\n",
    "            # new_data = ['-', '-', '-', '-', '-', '-', '-', '-', '-', '-', '-', '-', '-', '-']\n",
    "            new_data = [np.nan, np.nan, np.nan, np.nan, np.nan, np.nan, np.nan, np.nan, np.nan, np.nan, np.nan, np.nan, np.nan, np.nan]\n",
    "\n",
    "        data3.append(new_data)\n",
    "\n",
    "    if i > len(df['tweetID'])-154084:\n",
    "        break"
   ]
  },
  {
   "cell_type": "code",
   "execution_count": 29,
   "metadata": {},
   "outputs": [],
   "source": [
    "test_data3 = pd.DataFrame(data3, columns = ['date', 'tweet', 'username', 'user_created', 'user_verified', 'followersCount', 'friendsCount',\n",
    "                                            'retweetCount', 'likeCount', 'location', 'user_description', 'country', 'lang', 'replyCount'])"
   ]
  },
  {
   "cell_type": "code",
   "execution_count": 32,
   "metadata": {},
   "outputs": [
    {
     "data": {
      "text/plain": [
       "179252"
      ]
     },
     "execution_count": 32,
     "metadata": {},
     "output_type": "execute_result"
    }
   ],
   "source": [
    "len(df)"
   ]
  },
  {
   "cell_type": "code",
   "execution_count": 34,
   "metadata": {},
   "outputs": [],
   "source": [
    "nullCount = test_data.date.isnull().sum() + test_data2.date.isnull().sum() + test_data3.date.isnull().sum()"
   ]
  },
  {
   "cell_type": "code",
   "execution_count": 36,
   "metadata": {},
   "outputs": [
    {
     "data": {
      "text/plain": [
       "4235"
      ]
     },
     "execution_count": 36,
     "metadata": {},
     "output_type": "execute_result"
    }
   ],
   "source": [
    "# number of remaining tweets\n",
    "len(df) - nullCount"
   ]
  },
  {
   "cell_type": "code",
   "execution_count": 66,
   "metadata": {},
   "outputs": [
    {
     "data": {
      "text/plain": [
       "<snscrape.modules.twitter.TwitterTweetScraper at 0x7faefa7bcdf0>"
      ]
     },
     "execution_count": 66,
     "metadata": {},
     "output_type": "execute_result"
    }
   ],
   "source": [
    "scraper = sntwitter.TwitterTweetScraper(tweetId = 1619713543825403904)\n",
    "scraper"
   ]
  },
  {
   "cell_type": "code",
   "execution_count": 67,
   "metadata": {},
   "outputs": [
    {
     "data": {
      "text/plain": [
       "<snscrape.modules.twitter.TwitterTweetScraper at 0x7faefa7bcdf0>"
      ]
     },
     "execution_count": 67,
     "metadata": {},
     "output_type": "execute_result"
    }
   ],
   "source": [
    "scraper"
   ]
  },
  {
   "cell_type": "code",
   "execution_count": 83,
   "metadata": {},
   "outputs": [
    {
     "name": "stdout",
     "output_type": "stream",
     "text": [
      "en\n"
     ]
    }
   ],
   "source": [
    "for i in scraper.get_items():\n",
    "    break\n",
    "print(i.lang)"
   ]
  },
  {
   "cell_type": "code",
   "execution_count": null,
   "metadata": {},
   "outputs": [],
   "source": []
  }
 ],
 "metadata": {
  "kernelspec": {
   "display_name": "CryptoResearch",
   "language": "python",
   "name": "python3"
  },
  "language_info": {
   "codemirror_mode": {
    "name": "ipython",
    "version": 3
   },
   "file_extension": ".py",
   "mimetype": "text/x-python",
   "name": "python",
   "nbconvert_exporter": "python",
   "pygments_lexer": "ipython3",
   "version": "3.9.15"
  },
  "orig_nbformat": 4
 },
 "nbformat": 4,
 "nbformat_minor": 2
}
